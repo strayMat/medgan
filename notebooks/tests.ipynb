{
 "cells": [
  {
   "cell_type": "code",
   "execution_count": 1,
   "metadata": {},
   "outputs": [],
   "source": [
    "import numpy as np\n",
    "import pandas as pd\n",
    "\n",
    "import sys\n",
    "sys.path.append('../utils/')\n",
    "\n",
    "from patient import patient\n",
    "%load_ext autoreload\n",
    "%autoreload 2"
   ]
  },
  {
   "cell_type": "code",
   "execution_count": 2,
   "metadata": {},
   "outputs": [],
   "source": [
    "pat_matrix = np.load('../preproc.matrix.npy')\n",
    "code2ix = np.load('../preproc.types')\n",
    "ix2code = {v:k for (k, v) in code2ix.items()}\n",
    "code_dic = pd.read_csv('../data/subcodes.csv')"
   ]
  },
  {
   "cell_type": "code",
   "execution_count": 3,
   "metadata": {},
   "outputs": [],
   "source": [
    "code2hum = pd.Series(code_dic['LONG DESCRIPTION'].values, index=code_dic['3digit_code'].values).to_dict()\n",
    "code2hum_abbr = pd.Series(code_dic['SHORT DESCRIPTION'].values, index=code_dic['3digit_code'].values).to_dict()"
   ]
  },
  {
   "cell_type": "code",
   "execution_count": 35,
   "metadata": {},
   "outputs": [
    {
     "name": "stdout",
     "output_type": "stream",
     "text": [
      "patient 16949\n"
     ]
    }
   ],
   "source": [
    "random_ix = np.random.randint(pat_matrix.shape[0])\n",
    "print('patient {}'.format(random_ix))\n",
    "random_pat = patient(pat_matrix[random_ix], ix2code, code2hum)"
   ]
  },
  {
   "cell_type": "code",
   "execution_count": 36,
   "metadata": {},
   "outputs": [
    {
     "name": "stdout",
     "output_type": "stream",
     "text": [
      "1 Poisoning by barbiturates\n",
      "1 Poisoning by antidepressant, unspecified\n",
      "1 Suicide and self-inflicted poisoning by analgesics, antipyretics, and antirheumatics\n",
      "1 Cerebral cysts\n",
      "1 Bipolar I disorder, single manic episode, unspecified\n",
      "1 Malignant essential hypertension\n"
     ]
    }
   ],
   "source": [
    "random_pat.print()"
   ]
  },
  {
   "cell_type": "code",
   "execution_count": 32,
   "metadata": {},
   "outputs": [
    {
     "data": {
      "text/plain": [
       "[14, 15]"
      ]
     },
     "execution_count": 32,
     "metadata": {},
     "output_type": "execute_result"
    }
   ],
   "source": [
    "random_pat.unmatching"
   ]
  }
 ],
 "metadata": {
  "kernelspec": {
   "display_name": "Python 3",
   "language": "python",
   "name": "python3"
  },
  "language_info": {
   "codemirror_mode": {
    "name": "ipython",
    "version": 3
   },
   "file_extension": ".py",
   "mimetype": "text/x-python",
   "name": "python",
   "nbconvert_exporter": "python",
   "pygments_lexer": "ipython3",
   "version": "3.6.5"
  }
 },
 "nbformat": 4,
 "nbformat_minor": 2
}
